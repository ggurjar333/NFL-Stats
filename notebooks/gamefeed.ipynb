{
 "cells": [
  {
   "cell_type": "code",
   "execution_count": 1,
   "id": "initial_id",
   "metadata": {
    "collapsed": true,
    "ExecuteTime": {
     "end_time": "2023-12-20T11:30:04.964237300Z",
     "start_time": "2023-12-20T11:30:04.695360200Z"
    }
   },
   "outputs": [
    {
     "data": {
      "text/plain": "True"
     },
     "execution_count": 1,
     "metadata": {},
     "output_type": "execute_result"
    }
   ],
   "source": [
    "import requests\n",
    "from dotenv import load_dotenv\n",
    "import os\n",
    "\n",
    "from src.sportsradar.extract.gamefeeds import GameFeeds\n",
    "\n",
    "load_dotenv('../.env')"
   ]
  },
  {
   "cell_type": "code",
   "execution_count": 2,
   "outputs": [],
   "source": [
    "data = requests.get('https://api.sportradar.us/nfl/official/trial/v5/en/games/251ac0cf-d97d-4fe8-a39e-09fc4a95a0b2/boxscore.json?api_key=3gxhenkpc7fvtrsxkf3q8gyd')"
   ],
   "metadata": {
    "collapsed": false,
    "ExecuteTime": {
     "end_time": "2023-12-20T11:30:07.183573900Z",
     "start_time": "2023-12-20T11:30:04.965208900Z"
    }
   },
   "id": "9a019436cd54e765"
  },
  {
   "cell_type": "code",
   "execution_count": 3,
   "outputs": [],
   "source": [
    "class TestConstants:\n",
    "    BASE_URL = 'https://api.sportradar.us/nfl/official'\n",
    "    ACCESS_LEVEL = 'trial'\n",
    "    VERSION = 'v7'\n",
    "    LANGUAGE_CODE = 'en'\n",
    "    FORMAT = 'json'\n",
    "    API_KEY = f'{os.environ.get(\"APIKEY\")}'\n",
    "    MONGODB_URL = f\"{os.environ.get('MONGODB_URL')}\"\n",
    "    MONGODB_DATABASE = f\"{os.environ.get('MONGODB_DATABASE')}\""
   ],
   "metadata": {
    "collapsed": false,
    "ExecuteTime": {
     "end_time": "2023-12-20T11:30:07.198574200Z",
     "start_time": "2023-12-20T11:30:07.183573900Z"
    }
   },
   "id": "82547dfd0e5e4067"
  },
  {
   "cell_type": "code",
   "execution_count": 4,
   "outputs": [],
   "source": [
    "game_feeds = GameFeeds(base_url=TestConstants.BASE_URL)\n",
    "game_id = '251ac0cf-d97d-4fe8-a39e-09fc4a95a0b2'\n",
    "expected_status = 200"
   ],
   "metadata": {
    "collapsed": false,
    "ExecuteTime": {
     "end_time": "2023-12-20T11:30:07.221574200Z",
     "start_time": "2023-12-20T11:30:07.199575800Z"
    }
   },
   "id": "90171299e4dc90d"
  },
  {
   "cell_type": "code",
   "execution_count": 5,
   "outputs": [
    {
     "name": "stdout",
     "output_type": "stream",
     "text": [
      "https://api.sportradar.us/nfl/official/trial/v7/en/games/251ac0cf-d97d-4fe8-a39e-09fc4a95a0b2/boxscore.json?api_key=3gxhenkpc7fvtrsxkf3q8gyd\n"
     ]
    },
    {
     "data": {
      "text/plain": "<Response [200]>"
     },
     "execution_count": 5,
     "metadata": {},
     "output_type": "execute_result"
    }
   ],
   "source": [
    "game_feeds.get_game_boxscore(access_level=TestConstants.ACCESS_LEVEL,\n",
    "                           language_code=TestConstants.LANGUAGE_CODE,\n",
    "                           version=TestConstants.VERSION,\n",
    "                           game_id=game_id,\n",
    "                           file_format=TestConstants.FORMAT,\n",
    "                           api_key=TestConstants.API_KEY)"
   ],
   "metadata": {
    "collapsed": false,
    "ExecuteTime": {
     "end_time": "2023-12-20T11:30:09.548746500Z",
     "start_time": "2023-12-20T11:30:07.216576400Z"
    }
   },
   "id": "bf35cb5909426d1c"
  }
 ],
 "metadata": {
  "kernelspec": {
   "display_name": "Python 3",
   "language": "python",
   "name": "python3"
  },
  "language_info": {
   "codemirror_mode": {
    "name": "ipython",
    "version": 2
   },
   "file_extension": ".py",
   "mimetype": "text/x-python",
   "name": "python",
   "nbconvert_exporter": "python",
   "pygments_lexer": "ipython2",
   "version": "2.7.6"
  }
 },
 "nbformat": 4,
 "nbformat_minor": 5
}
